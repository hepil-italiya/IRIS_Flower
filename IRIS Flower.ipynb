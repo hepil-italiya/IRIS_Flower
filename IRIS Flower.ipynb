{
 "cells": [
  {
   "cell_type": "code",
   "execution_count": 96,
   "id": "5ac7121c",
   "metadata": {},
   "outputs": [],
   "source": [
    "import pandas as pd\n",
    "import matplotlib.pyplot as pyplot\n",
    "import numpy as np\n",
    "\n",
    "from sklearn.linear_model import LogisticRegression\n",
    "from sklearn.tree import DecisionTreeClassifier\n",
    "from sklearn.neighbors import KNeighborsClassifier\n",
    "from sklearn.discriminant_analysis import LinearDiscriminantAnalysis\n",
    "from sklearn.naive_bayes import GaussianNB\n",
    "from sklearn.svm import SVC\n",
    "from pandas.plotting import scatter_matrix\n",
    "from sklearn.model_selection import StratifiedKFold\n",
    "from sklearn.model_selection import cross_val_score\n",
    "from sklearn.model_selection import train_test_split\n",
    "from sklearn.metrics import accuracy_score,confusion_matrix,classification_report\n",
    "from sklearn.linear_model import LinearRegression"
   ]
  },
  {
   "cell_type": "code",
   "execution_count": 31,
   "id": "74681c21",
   "metadata": {},
   "outputs": [],
   "source": [
    "data=pd.read_csv(\"D:\\Codesoft\\IRIS Flower\\IRIS.csv\")"
   ]
  },
  {
   "cell_type": "code",
   "execution_count": 32,
   "id": "b0fecd18",
   "metadata": {},
   "outputs": [
    {
     "data": {
      "text/plain": [
       "sepal_length    0\n",
       "sepal_width     0\n",
       "petal_length    0\n",
       "petal_width     0\n",
       "species         0\n",
       "dtype: int64"
      ]
     },
     "execution_count": 32,
     "metadata": {},
     "output_type": "execute_result"
    }
   ],
   "source": [
    "data.isnull().sum()"
   ]
  },
  {
   "cell_type": "code",
   "execution_count": 5,
   "id": "03259254",
   "metadata": {},
   "outputs": [
    {
     "data": {
      "text/html": [
       "<div>\n",
       "<style scoped>\n",
       "    .dataframe tbody tr th:only-of-type {\n",
       "        vertical-align: middle;\n",
       "    }\n",
       "\n",
       "    .dataframe tbody tr th {\n",
       "        vertical-align: top;\n",
       "    }\n",
       "\n",
       "    .dataframe thead th {\n",
       "        text-align: right;\n",
       "    }\n",
       "</style>\n",
       "<table border=\"1\" class=\"dataframe\">\n",
       "  <thead>\n",
       "    <tr style=\"text-align: right;\">\n",
       "      <th></th>\n",
       "      <th>sepal_length</th>\n",
       "      <th>sepal_width</th>\n",
       "      <th>petal_length</th>\n",
       "      <th>petal_width</th>\n",
       "      <th>species</th>\n",
       "    </tr>\n",
       "  </thead>\n",
       "  <tbody>\n",
       "    <tr>\n",
       "      <th>0</th>\n",
       "      <td>5.1</td>\n",
       "      <td>3.5</td>\n",
       "      <td>1.4</td>\n",
       "      <td>0.2</td>\n",
       "      <td>Iris-setosa</td>\n",
       "    </tr>\n",
       "    <tr>\n",
       "      <th>1</th>\n",
       "      <td>4.9</td>\n",
       "      <td>3.0</td>\n",
       "      <td>1.4</td>\n",
       "      <td>0.2</td>\n",
       "      <td>Iris-setosa</td>\n",
       "    </tr>\n",
       "    <tr>\n",
       "      <th>2</th>\n",
       "      <td>4.7</td>\n",
       "      <td>3.2</td>\n",
       "      <td>1.3</td>\n",
       "      <td>0.2</td>\n",
       "      <td>Iris-setosa</td>\n",
       "    </tr>\n",
       "    <tr>\n",
       "      <th>3</th>\n",
       "      <td>4.6</td>\n",
       "      <td>3.1</td>\n",
       "      <td>1.5</td>\n",
       "      <td>0.2</td>\n",
       "      <td>Iris-setosa</td>\n",
       "    </tr>\n",
       "    <tr>\n",
       "      <th>4</th>\n",
       "      <td>5.0</td>\n",
       "      <td>3.6</td>\n",
       "      <td>1.4</td>\n",
       "      <td>0.2</td>\n",
       "      <td>Iris-setosa</td>\n",
       "    </tr>\n",
       "  </tbody>\n",
       "</table>\n",
       "</div>"
      ],
      "text/plain": [
       "   sepal_length  sepal_width  petal_length  petal_width      species\n",
       "0           5.1          3.5           1.4          0.2  Iris-setosa\n",
       "1           4.9          3.0           1.4          0.2  Iris-setosa\n",
       "2           4.7          3.2           1.3          0.2  Iris-setosa\n",
       "3           4.6          3.1           1.5          0.2  Iris-setosa\n",
       "4           5.0          3.6           1.4          0.2  Iris-setosa"
      ]
     },
     "execution_count": 5,
     "metadata": {},
     "output_type": "execute_result"
    }
   ],
   "source": [
    "data.head()"
   ]
  },
  {
   "cell_type": "code",
   "execution_count": 7,
   "id": "f7976fc3",
   "metadata": {},
   "outputs": [
    {
     "name": "stdout",
     "output_type": "stream",
     "text": [
      "species\n",
      "Iris-setosa        50\n",
      "Iris-versicolor    50\n",
      "Iris-virginica     50\n",
      "dtype: int64\n"
     ]
    }
   ],
   "source": [
    "print(data.groupby(\"species\").size())"
   ]
  },
  {
   "cell_type": "code",
   "execution_count": 21,
   "id": "5334789f",
   "metadata": {},
   "outputs": [
    {
     "data": {
      "image/png": "[encoded data removed]",
      "text/plain": [
       "<Figure size 432x288 with 4 Axes>"
      ]
     },
     "metadata": {
      "needs_background": "light"
     },
     "output_type": "display_data"
    }
   ],
   "source": [
    "data.plot(kind='box',subplots=True,layout=(2,2),)\n",
    "plt.show()"
   ]
  },
  {
   "cell_type": "code",
   "execution_count": 33,
   "id": "b0e1d4ea",
   "metadata": {},
   "outputs": [],
   "source": [
    "new_data=data.values"
   ]
  },
  {
   "cell_type": "code",
   "execution_count": 36,
   "id": "ccacd5dc",
   "metadata": {},
   "outputs": [],
   "source": [
    "x=new_data[:,0:4]\n",
    "y=new_data[:,4]"
   ]
  },
  {
   "cell_type": "markdown",
   "id": "169834f0",
   "metadata": {},
   "source": [
    "Extract the features from different type of flower"
   ]
  },
  {
   "cell_type": "code",
   "execution_count": 55,
   "id": "8b5546a6",
   "metadata": {},
   "outputs": [],
   "source": [
    "convert=[]\n",
    "name=\"hii\"\n",
    "counter=0\n",
    "for i in y:\n",
    "    if(i==y[1]):\n",
    "        convert.append(1)\n",
    "    if(i==y[51]):\n",
    "        convert.append(2)\n",
    "    if(i==y[101]):\n",
    "        convert.append(3)\n",
    "convert=np.array(convert)"
   ]
  },
  {
   "cell_type": "code",
   "execution_count": 63,
   "id": "f78845fc",
   "metadata": {},
   "outputs": [
    {
     "data": {
      "text/plain": [
       "LinearRegression()"
      ]
     },
     "execution_count": 63,
     "metadata": {},
     "output_type": "execute_result"
    }
   ],
   "source": [
    "model=LinearRegression()\n",
    "model.fit(x,convert)"
   ]
  },
  {
   "cell_type": "code",
   "execution_count": 67,
   "id": "4d7c57bf",
   "metadata": {},
   "outputs": [
    {
     "name": "stdout",
     "output_type": "stream",
     "text": [
      "[0.91734173 0.96141024 0.95181031 1.01260878 0.92389183 1.05680235\n",
      " 1.03762592 0.95544006 1.02070502 0.91869693 0.89827134 1.00008849\n",
      " 0.91139498 0.89816529 0.7730022  0.95635941 0.9660018  0.97833114\n",
      " 0.96731454 0.98775914 0.95694375 1.0531726  0.87698786 1.17725847\n",
      " 1.0681889  0.99583637 1.10011902 0.92906772 0.91079163 1.01991072\n",
      " 1.01336062 1.0335223  0.84153404 0.84247683 0.91869693 0.89618773\n",
      " 0.850745   0.91869693 0.99358084 0.94446591 0.96660515 1.07456442\n",
      " 0.98473275 1.2176738  1.13954911 1.0333738  0.94946987 0.98548459\n",
      " 0.90924548 0.93716396 2.20308259 2.2845166  2.32487047 2.1876208\n",
      " 2.31393877 2.25705298 2.39745639 1.90717243 2.17656176 2.24113634\n",
      " 1.95929474 2.28013501 1.95420588 2.31512204 2.05930184 2.17232866\n",
      " 2.38115786 1.97673409 2.35070534 2.02311961 2.59045598 2.0996557\n",
      " 2.41725961 2.19756726 2.13040963 2.18772685 2.2654272  2.49592176\n",
      " 2.34168532 1.85593145 2.01581766 1.93212811 2.05331264 2.54772365\n",
      " 2.40310615 2.38055451 2.30141848 2.19062819 2.16837848 2.17877271\n",
      " 2.20415981 2.28799785 2.08043682 1.90062233 2.20435076 2.11911506\n",
      " 2.18452852 2.15235793 1.87368909 2.16625243 3.24146289 2.75264018\n",
      " 2.90028407 2.74143264 3.00441822 3.00431431 2.60207593 2.79059214\n",
      " 2.76063251 3.15212358 2.71469034 2.73219558 2.84240596 2.81075169\n",
      " 3.05316319 2.954033   2.69236016 3.04163735 3.20111558 2.48615432\n",
      " 2.98996282 2.78575356 2.96389898 2.59137976 2.88550825 2.72019374\n",
      " 2.57522972 2.60005592 2.91785077 2.56166273 2.79963117 2.82960982\n",
      " 2.97884018 2.44938775 2.53269542 3.00181829 3.08524888 2.69891026\n",
      " 2.58832992 2.80430763 3.05462443 2.85818604 2.75264018 3.04633725\n",
      " 3.12946589 2.90725851 2.6839174  2.74623857 2.98983334 2.66740449]\n"
     ]
    }
   ],
   "source": [
    "prediction=model.predict(x)\n",
    "print(prediction)"
   ]
  },
  {
   "cell_type": "code",
   "execution_count": 73,
   "id": "7f3bd9e9",
   "metadata": {},
   "outputs": [],
   "source": [
    "columns = ['sepal_length', 'sepal_width', 'petal_length', 'petal_width',\n",
    "       'species']"
   ]
  },
  {
   "cell_type": "code",
   "execution_count": 74,
   "id": "ef34f2ab",
   "metadata": {},
   "outputs": [],
   "source": [
    "x=new_data[:,0:4]\n",
    "y=new_data[:,4]\n",
    "Y_Data=np.array([np.average(x[:,i][y==j].astype('float32')) for i in range(x.shape[1]) for j in (np.unique(y))])\n",
    "Y_Data_reshaped=Y_Data.reshape(4,3)\n",
    "Y_Data_reshaped=np.swapaxes(Y_Data_reshaped,0,1)\n",
    "x_axis=np.arange(len(columns)-1)\n",
    "width=0.25"
   ]
  },
  {
   "cell_type": "markdown",
   "id": "d4c15367",
   "metadata": {},
   "source": [
    "Prediction graph"
   ]
  },
  {
   "cell_type": "code",
   "execution_count": 80,
   "id": "0010e288",
   "metadata": {},
   "outputs": [
    {
     "data": {
      "image/png": "[encoded data removed]",
      "text/plain": [
       "<Figure size 432x288 with 1 Axes>"
      ]
     },
     "metadata": {
      "needs_background": "light"
     },
     "output_type": "display_data"
    }
   ],
   "source": [
    "pyplot.bar(x_axis,Y_Data_reshaped[0],width,label='setosa')\n",
    "pyplot.bar(x_axis+width,Y_Data_reshaped[1],width,label='versicolor')\n",
    "pyplot.bar(x_axis+width*2,Y_Data_reshaped[2],width,label='virginica')\n",
    "pyplot.xticks(x_axis,columns[:4])\n",
    "pyplot.xlabel('Features')\n",
    "pyplot.ylabel('value in cm.')\n",
    "pyplot.legend(bbox_to_anchor=(1.3,1))\n",
    "pyplot.show()"
   ]
  },
  {
   "cell_type": "code",
   "execution_count": 90,
   "id": "57d5c657",
   "metadata": {},
   "outputs": [],
   "source": [
    "X_train,X_test,Y_train,Y_test=train_test_split(x,y,test_size=0.20,random_state=1)"
   ]
  },
  {
   "cell_type": "code",
   "execution_count": 83,
   "id": "bdd65493",
   "metadata": {},
   "outputs": [],
   "source": [
    "models=[]\n",
    "models.append(('LR',LogisticRegression(solver='liblinear',multi_class='ovr')))\n",
    "models.append(('LDA',LinearDiscriminantAnalysis()))\n",
    "models.append(('KNN',KNeighborsClassifier()))\n",
    "models.append(('CART',DecisionTreeClassifier()))\n",
    "models.append(('NB',GaussianNB()))\n",
    "models.append(('SVM',SVC(gamma='auto')))"
   ]
  },
  {
   "cell_type": "code",
   "execution_count": 91,
   "id": "1e1cd263",
   "metadata": {},
   "outputs": [
    {
     "name": "stdout",
     "output_type": "stream",
     "text": [
      "LR:0.941667(0.065085)\n",
      "LDA:0.975000(0.038188)\n",
      "KNN:0.958333(0.041667)\n",
      "CART:0.941667(0.053359)\n",
      "NB:0.950000(0.055277)\n",
      "SVM:0.983333(0.033333)\n"
     ]
    }
   ],
   "source": [
    "results=[]\n",
    "names=[]\n",
    "for name,model in models:\n",
    "    kfold=StratifiedKFold(n_splits=10,random_state=1,shuffle=True)\n",
    "    cv_results=cross_val_score(model,X_train,Y_train,cv=kfold,scoring='accuracy')\n",
    "    results.append(cv_results)\n",
    "    names.append(name)\n",
    "    print('%s:%f(%f)'%(name,cv_results.mean(),cv_results.std()))"
   ]
  },
  {
   "cell_type": "code",
   "execution_count": 92,
   "id": "6f4ca701",
   "metadata": {},
   "outputs": [],
   "source": [
    "model=SVC(gamma='auto')\n",
    "model.fit(X_train,Y_train)\n",
    "predictions=model.predict(X_test)"
   ]
  },
  {
   "cell_type": "markdown",
   "id": "2d6196df",
   "metadata": {},
   "source": [
    "Prediction accuracy"
   ]
  },
  {
   "cell_type": "code",
   "execution_count": 97,
   "id": "fa173c66",
   "metadata": {},
   "outputs": [
    {
     "name": "stdout",
     "output_type": "stream",
     "text": [
      "0.9666666666666667\n",
      "[[11  0  0]\n",
      " [ 0 12  1]\n",
      " [ 0  0  6]]\n",
      "                 precision    recall  f1-score   support\n",
      "\n",
      "    Iris-setosa       1.00      1.00      1.00        11\n",
      "Iris-versicolor       1.00      0.92      0.96        13\n",
      " Iris-virginica       0.86      1.00      0.92         6\n",
      "\n",
      "       accuracy                           0.97        30\n",
      "      macro avg       0.95      0.97      0.96        30\n",
      "   weighted avg       0.97      0.97      0.97        30\n",
      "\n"
     ]
    }
   ],
   "source": [
    "print(accuracy_score(Y_test,predictions))\n",
    "print(confusion_matrix(Y_test,predictions))\n",
    "print(classification_report(Y_test,predictions))"
   ]
  }
 ],
 "metadata": {
  "kernelspec": {
   "display_name": "Python 3 (ipykernel)",
   "language": "python",
   "name": "python3"
  },
  "language_info": {
   "codemirror_mode": {
    "name": "ipython",
    "version": 3
   },
   "file_extension": ".py",
   "mimetype": "text/x-python",
   "name": "python",
   "nbconvert_exporter": "python",
   "pygments_lexer": "ipython3",
   "version": "3.7.9"
  }
 },
 "nbformat": 4,
 "nbformat_minor": 5
}
